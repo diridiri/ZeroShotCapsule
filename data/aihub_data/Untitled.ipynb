{
 "cells": [
  {
   "cell_type": "code",
   "execution_count": 7,
   "metadata": {
    "ExecuteTime": {
     "end_time": "2020-06-02T05:25:22.856272Z",
     "start_time": "2020-06-02T05:25:22.834009Z"
    }
   },
   "outputs": [
    {
     "name": "stdout",
     "output_type": "stream",
     "text": [
      "질문 <class 'tuple'>\n",
      "이나 <class 'tuple'>\n",
      "건의 <class 'tuple'>\n",
      "사항 <class 'tuple'>\n",
      "은 <class 'tuple'>\n",
      "깃헙 <class 'tuple'>\n",
      "이슈 <class 'tuple'>\n",
      "트래커 <class 'tuple'>\n",
      "에 <class 'tuple'>\n",
      "남기 <class 'tuple'>\n",
      "어 <class 'tuple'>\n",
      "주 <class 'tuple'>\n",
      "세요 <class 'tuple'>\n",
      ". <class 'tuple'>\n"
     ]
    }
   ],
   "source": [
    "\n",
    "from konlpy.tag import Kkma\n",
    "from konlpy.utils import pprint\n",
    "\n",
    "\n",
    "kkma = Kkma()\n",
    "\n",
    "nouns = kkma.pos(u'질문이나 건의사항은 깃헙 이슈 트래커에 남겨주세요.')\n",
    "\n",
    "for n in nouns:\n",
    "    print (n[0], type(n))"
   ]
  },
  {
   "cell_type": "code",
   "execution_count": null,
   "metadata": {},
   "outputs": [],
   "source": []
  }
 ],
 "metadata": {
  "kernelspec": {
   "display_name": "Python 3",
   "language": "python",
   "name": "python3"
  },
  "language_info": {
   "codemirror_mode": {
    "name": "ipython",
    "version": 3
   },
   "file_extension": ".py",
   "mimetype": "text/x-python",
   "name": "python",
   "nbconvert_exporter": "python",
   "pygments_lexer": "ipython3",
   "version": "3.7.6"
  },
  "toc": {
   "base_numbering": 1,
   "nav_menu": {},
   "number_sections": false,
   "sideBar": true,
   "skip_h1_title": false,
   "title_cell": "Table of Contents",
   "title_sidebar": "Contents",
   "toc_cell": false,
   "toc_position": {},
   "toc_section_display": true,
   "toc_window_display": false
  }
 },
 "nbformat": 4,
 "nbformat_minor": 2
}
